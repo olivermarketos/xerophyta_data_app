{
 "cells": [
  {
   "cell_type": "code",
   "execution_count": 8,
   "metadata": {},
   "outputs": [],
   "source": [
    "import json\n",
    "import pandas as pd\n"
   ]
  },
  {
   "cell_type": "markdown",
   "metadata": {},
   "source": [
    "## TODO\n",
    "* Make `add_rna_seq_data` and `create_or_update` more efficient\n",
    "* Add arabidopsis orthologues to DB\n",
    "  * Get from accession numbers (NIH and )\n",
    "* Connect front end to db for RNA-seq\n",
    "  * search by:\n",
    "    * At gene\n",
    "    * [X] Xe gene\n",
    "    * [X] GO terms\n",
    "  * Select experiment\n",
    "* add species.id to experiments model so that i can filter by exp for specific species\n",
    "\n",
    "* Fix up `gene_query_page.py`\n",
    "  * move the functions to the database\n",
    "* Maybe clear the textbox on expression_page when user changes something in sidebar and add text in box physically rather than placeholder\n",
    "* display genes for different GO terms in different panels?\n",
    "  \n",
    "## Done\n",
    "* Show which queried Xe genes arent in DB\n",
    "* plot expression values for Xerophyta genes\n",
    "  * log or normalised\n",
    "* Query expression data by experiment in DB (currently searches all of expression table)\n",
    "* Fix button stopping showing raw data\n",
    "* add DEGs table and DEG data\n",
    "  * filter expression data by DEGs\n",
    "  \n",
    "## Questions\n",
    "- How should i handle the clusters because they aren't consistent?\n",
    "- I need the humilis fasta file from nicci\n",
    "- Cant add schlecteri seedlings RNA seek data because idk what half the columns are\n",
    "- One of mamosas files (Xs) has gene counts all of 0\n",
    "- what are mamosas files\n",
    "- Michaels adult leaf tissues dont have any info in the columns\n",
    "- Does it make sense that X humilis has 99000 genes and other two have 28000"
   ]
  },
  {
   "cell_type": "markdown",
   "metadata": {},
   "source": [
    "## 01-01-2025 Add RNAseq data to DB\n",
    "Need to add the X. elegans RNA-seq data to the db. \n",
    "\n",
    "Steps:\n",
    "1. Add tables to `models.py`  and add info to DB schema with Alembic  \n",
    "2. Format data into long data format  \n",
    "\n",
    "### 1. Add table\n",
    "**Set up alembic** \n",
    "\n",
    "`alembic init alembic`  \n",
    "... chatGPT for other steps  \n",
    "\n",
    "**Create a migration script**   \n",
    "\n",
    "`alembic revision --autogenerate -m \"Your migration description here\"`  \n",
    "fill in script\n",
    "`alembic upgrade head`  \n",
    "\n",
    "\n",
    "Added two tables: `Gene_expressions` and `Experiments`\n",
    "\n",
    "### 2. Format the data\n",
    "\n",
    "Use the `data_tidier.py` script and the below python cells\n",
    "\n"
   ]
  },
  {
   "cell_type": "code",
   "execution_count": null,
   "metadata": {},
   "outputs": [],
   "source": [
    "import data_tidier as dt\n",
    "import pandas as pd\n",
    "\n",
    "# Load the RNA expression file\n",
    "file_path = \"all_data/Michael_RNAseq/Xs seedlings/Xs_seedlings_DESeq2 normalised counts table.csv\"\n",
    "df = pd.read_csv(file_path)\n",
    "\n",
    "# Transform the data to long formathead \n",
    "long_df = dt.transform_to_long(df)\n",
    "\n",
    "long_df.to_csv(f\"{file_path}_tidy\", index=False)\n",
    "print(long_df.head())\n",
    "\n",
    "\n"
   ]
  },
  {
   "cell_type": "code",
   "execution_count": null,
   "metadata": {},
   "outputs": [],
   "source": [
    "df = dt.add_log2(long_df) # add log2 transformation\n",
    "df = dt.format_time_points(df) # format timepoint\n",
    "df.rename(columns={\"expression\": \"normalised_expression\"}, inplace=True)\n",
    "print(df.head())\n",
    "\n",
    "df.to_csv(\"all_data/Michael_RNAseq/Xe_seedlings (updated)/Xe_seedlings_DESeq2_normalised_counts_table_tidy_for_db.csv\", index=False)"
   ]
  },
  {
   "cell_type": "markdown",
   "metadata": {},
   "source": [
    "### 3. Add to database\n",
    "Added X. elegans seedling time course data.  \n",
    "\n"
   ]
  },
  {
   "cell_type": "code",
   "execution_count": null,
   "metadata": {},
   "outputs": [],
   "source": [
    "import db_manager as dbm\n",
    "\n",
    "\n",
    "species_id = \"X. elegans\"\n",
    "experiment_name = \"xe_seedlings_time_course\"\n",
    "rna_seq_data = pd.read_csv(\"all_data/Michael_RNAseq/Xe_seedlings (updated)/Xe_seedlings_DESeq2_normalised_counts_table_tidy_for_db.csv\")\n",
    "\n",
    "dbm.add_experiment(experiment_name, \"time course of X. elegans seedlings\")\n",
    "dbm.add_rna_seq_data(rna_seq_data, species_id, experiment_name )\n"
   ]
  },
  {
   "cell_type": "markdown",
   "metadata": {},
   "source": [
    "## 02.01.2025 Connect frontend to DB"
   ]
  },
  {
   "cell_type": "code",
   "execution_count": null,
   "metadata": {},
   "outputs": [],
   "source": [
    "import db_manager as dbm\n",
    "import db\n",
    "\n",
    "species_id = \"X. elegans\"\n",
    "experiment_name = \"xe_seedlings_time_course\"\n",
    "database = db.DB()\n",
    "\n",
    "database.link_experiment_to_species(experiment_name, species_id)"
   ]
  },
  {
   "cell_type": "markdown",
   "metadata": {},
   "source": [
    "## 5-01-2025 Add DEG table\n",
    "\n",
    "- added DEG tables and data for X elegans seedlings.\n",
    "- can filter by DEGs now\n",
    "- Can also query expression data based on GO terms\n",
    "\n",
    "#### Testing DEG implementation\n",
    "\"12\",\"Xele.ptg000001l.15\",\"ReT48\",\"Up-regulated\",\"None\",\"None\"\n",
    "\"46\",\"Xele.ptg000001l.50\",\"None\",\"None\",\"DeT09\",\"Down-regulated\"\n",
    "\"137\",\"Xele.ptg000001l.159\",\"ReT04\",\"Up-regulated\",\"DeT12\",\"Down-regulated\"\n",
    "\n",
    "Xele.ptg000001l.15\n",
    "Xele.ptg000001l.50\n",
    "Xele.ptg000001l.159\n",
    "\n",
    "nice example: nuclear ubiquitin ligase complex\n",
    "  - 12 genes\n",
    "  - 6 degs\n",
    "  - 3 up \n",
    "  - 3 down"
   ]
  },
  {
   "cell_type": "code",
   "execution_count": null,
   "metadata": {},
   "outputs": [],
   "source": [
    "import db \n",
    "\n",
    "database = db.DB()\n",
    "\n",
    "gene = \"Xsch.v2.MJHO01000001.1.1119\"\n",
    "genes =database.get_genes_by_go_term_or_description([\"jasmonic acid and ethylene-dependent systemic resistance\"], \"X. elegans\")\n",
    "gene_names = [gene.gene_name for gene in genes]\n",
    "\n",
    "print(len(gene_names))\n",
    "\n",
    "data = database.get_gene_expression_data(gene_names, \"xe_seedlings_time_course\")\n",
    "print(data)"
   ]
  },
  {
   "cell_type": "code",
   "execution_count": null,
   "metadata": {},
   "outputs": [],
   "source": [
    "import models\n",
    "from sqlalchemy import func\n",
    "\n",
    "def get_go_terms_with_fewest_genes(threshold=0):\n",
    "    \"\"\"\n",
    "    Query GO terms linked to the fewest genes in ascending order of gene count.\n",
    "\n",
    "    Parameters:\n",
    "        session: SQLAlchemy session object.\n",
    "\n",
    "    Returns:\n",
    "        List of tuples containing GO term ID, GO term name, and gene count.\n",
    "    \"\"\"\n",
    "    database = db.DB()\n",
    "    session = database.session\n",
    "    query = (\n",
    "        session.query(\n",
    "            models.GO.go_id,          # Select the GO ID\n",
    "            models.GO.go_name,        # Select the GO Name\n",
    "            func.count(models.Gene.id).label(\"gene_count\")  # Count distinct genes\n",
    "        )\n",
    "        .join(models.annotations_go, models.annotations_go.c.go_id == models.GO.id)  # Join GO to annotations_go\n",
    "        .join(models.Annotation, models.Annotation.id == models.annotations_go.c.annotation_id)  # Join annotations_go to annotations\n",
    "        .join(models.Gene, models.Gene.id == models.Annotation.gene_id)  # Join annotations to genes\n",
    "        .join(models.Species, models.Species.id == models.Gene.species_id)  # Join genes to species\n",
    "        .group_by(models.GO.go_id, models.GO.go_name)  # Group by GO ID and name\n",
    "        .having(func.count(models.Gene.id) > threshold)  # Filter by gene count greater than 0\n",
    "        .order_by(func.count(models.Gene.id).asc())  # Order by gene count in ascending order\n",
    "        .filter(models.Species.name == \"X. elegans\") \n",
    "    )\n",
    "\n",
    "    return query.all()\n",
    "\n",
    "print(get_go_terms_with_fewest_genes(13))"
   ]
  },
  {
   "cell_type": "markdown",
   "metadata": {},
   "source": [
    "## 24-01-2025 Add Humilis Fasta data and neaten up interface\n",
    "- add humilis species, data\n",
    "- TODO make adding fasta info more efficient \n",
    "- "
   ]
  },
  {
   "cell_type": "code",
   "execution_count": 1,
   "metadata": {},
   "outputs": [],
   "source": [
    "# Add the species and gene sequences to the database\n",
    "\n",
    "import db as db\n",
    "import db_manager as dbm\n",
    "\n",
    "\n",
    "\n",
    "database = db.DB()\n",
    "species_name = \"X. humilis\"\n",
    "fasta_file = \"all_data/Xhumilis_Nov2024/Xhum_CDS_annot150424.fasta\"\n",
    "\n",
    "species = database.add_species(species_name)\n",
    "species_id = species.id \n",
    "# dbm.add_gene_sequence_from_fasta(fasta_file, species_id)"
   ]
  },
  {
   "cell_type": "code",
   "execution_count": null,
   "metadata": {},
   "outputs": [],
   "source": [
    "# add the gene annotations to the database\n",
    "\n",
    "annotation_file = \"all_data/Xhumilis_Nov2024/20241111_Xhumilis_annotation_76405_export table_Oliver.csv\"\n",
    "dbm.add_gene_annotations(annotation_file, species_id)\n"
   ]
  },
  {
   "cell_type": "code",
   "execution_count": null,
   "metadata": {},
   "outputs": [],
   "source": [
    "import db as db\n",
    "from sqlalchemy.orm import aliased\n",
    "from sqlalchemy.sql import func\n",
    "import models\n",
    "def get_counts_by_species(species_id):\n",
    "    # Count GO terms\n",
    "    database = db.DB()\n",
    "    session = database.session\n",
    "    go_count = session.query(func.count(models.GO.id)) \\\n",
    "        .join(models.annotations_go) \\\n",
    "        .join(models.Annotation) \\\n",
    "        .join(models.Gene) \\\n",
    "        .filter(models.Gene.species_id == species_id) \\\n",
    "        .scalar()\n",
    "\n",
    "    # Count InterPro terms\n",
    "    interpro_count = session.query(func.count(models.InterPro.id)) \\\n",
    "        .join(models.annotations_interpro) \\\n",
    "        .join(models.Annotation) \\\n",
    "        .join(models.Gene) \\\n",
    "        .filter(models.Gene.species_id == species_id) \\\n",
    "        .scalar()\n",
    "\n",
    "    # Count gene annotations\n",
    "    annotation_count = session.query(func.count(models.Annotation.id)) \\\n",
    "        .join(models.Gene) \\\n",
    "        .filter(models.Gene.species_id == species_id) \\\n",
    "        .scalar()\n",
    "\n",
    "\n",
    "    return {\n",
    "        \"GO_terms_count\": go_count,\n",
    "        \"InterPro_count\": interpro_count,\n",
    "        \"Gene_annotations_count\": annotation_count\n",
    "    }\n",
    "\n",
    "# Example usage\n",
    "for i in range(1, 4):\n",
    "    counts = get_counts_by_species(i)\n",
    "    print(counts)\n",
    "\n",
    "293425 +312558 +1017868 = 1,623,851"
   ]
  },
  {
   "cell_type": "markdown",
   "metadata": {},
   "source": [
    "## 14-02-2025 Add X elegans arabidopsis genes to database\n"
   ]
  },
  {
   "cell_type": "code",
   "execution_count": null,
   "metadata": {},
   "outputs": [],
   "source": [
    "\n",
    "def add_at_homologues():\n",
    "    # add at common name\n",
    "    # add locus\n",
    "    # make all lower case\n",
    "    # retreive gene ID, "
   ]
  }
 ],
 "metadata": {
  "kernelspec": {
   "display_name": "xerophyta_data_app",
   "language": "python",
   "name": "python3"
  },
  "language_info": {
   "codemirror_mode": {
    "name": "ipython",
    "version": 3
   },
   "file_extension": ".py",
   "mimetype": "text/x-python",
   "name": "python",
   "nbconvert_exporter": "python",
   "pygments_lexer": "ipython3",
   "version": "3.12.8"
  }
 },
 "nbformat": 4,
 "nbformat_minor": 2
}
