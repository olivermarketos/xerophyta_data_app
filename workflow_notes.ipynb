{
 "cells": [
  {
   "cell_type": "code",
   "execution_count": 8,
   "metadata": {},
   "outputs": [],
   "source": [
    "import json\n",
    "import pandas as pd\n"
   ]
  },
  {
   "cell_type": "markdown",
   "metadata": {},
   "source": [
    "## TODO\n",
    "* Make `add_rna_seq_data` and `create_or_update` more efficient\n",
    "* Add arabidopsis orthologues to DB\n",
    "  * Get from accession numbers (NIH and )\n",
    "* Connect front end to db for RNA-seq\n",
    "  * search by:\n",
    "    * At gene\n",
    "    * [X] Xe gene\n",
    "    * GO terms\n",
    "  * Select experiment\n",
    "* add species.id to experiments model so that i can filter by exp for specific species\n",
    "* add DEGs table and DEG data\n",
    "  * filter expression data by DEGs\n",
    "* Fix up `gene_query_page.py`\n",
    "  * move the functions to the database\n",
    "* Maybe clear the textbox on expression_page when user changes something in sidebar and add text in box physically rather than placeholder\n",
    "\n",
    "## Done\n",
    "* Show which queried Xe genes arent in DB\n",
    "* plot expression values for Xerophyta genes\n",
    "  * log or normalised\n",
    "* Query expression data by experiment in DB (currently searches all of expression table)\n",
    "* Fix button stopping showing raw data\n",
    "\n",
    "## Questions\n",
    "- How should i handle the clusters because they aren't consistent?\n",
    "- I need the humilis fasta file from nicci"
   ]
  },
  {
   "cell_type": "markdown",
   "metadata": {},
   "source": [
    "## 01-01-2025 Add RNAseq data to DB\n",
    "Need to add the X. elegans RNA-seq data to the db. \n",
    "\n",
    "Steps:\n",
    "1. Add tables to `models.py`  and add info to DB schema with Alembic  \n",
    "2. Format data into long data format  \n",
    "\n",
    "### 1. Add table\n",
    "**Set up alembic** \n",
    "\n",
    "`alembic init alembic`  \n",
    "... chatGPT for other steps  \n",
    "\n",
    "**Create a migration script**   \n",
    "\n",
    "`alembic revision --autogenerate -m \"Your migration description here\"`  \n",
    "fill in script\n",
    "`alembic upgrade head`  \n",
    "\n",
    "\n",
    "Added two tables: `Gene_expressions` and `Experiments`\n",
    "\n",
    "### 2. Format the data\n",
    "\n",
    "Use the `data_tidier.py` script and the below python cells\n",
    "\n"
   ]
  },
  {
   "cell_type": "code",
   "execution_count": 11,
   "metadata": {},
   "outputs": [
    {
     "name": "stderr",
     "output_type": "stream",
     "text": [
      "/Users/olivermarketos/Library/Mobile Documents/com~apple~CloudDocs/2024/programming_projects/app/xerophyta_data_app/data_tidier.py:39: FutureWarning: Series.__getitem__ treating keys as positions is deprecated. In a future version, integer keys will always be treated as labels (consistent with DataFrame behavior). To access a value by position, use `ser.iloc[pos]`\n",
      "  gene_name = row[0]  # First column is the gene name\n"
     ]
    },
    {
     "name": "stdout",
     "output_type": "stream",
     "text": [
      "           gene_name     species treatment replicate time  expression\n",
      "0  Xele.ptg000001l.1  X. elegans        De        R2  T00   24.091222\n",
      "1  Xele.ptg000001l.1  X. elegans        De        R2  T03   21.161189\n",
      "2  Xele.ptg000001l.1  X. elegans        De        R2  T06   10.594839\n",
      "3  Xele.ptg000001l.1  X. elegans        De        R2  T09   15.733636\n",
      "4  Xele.ptg000001l.1  X. elegans        De        R2  T12   18.745990\n"
     ]
    }
   ],
   "source": [
    "import data_tidier as dt\n",
    "import pandas as pd\n",
    "\n",
    "# Load the RNA expression file\n",
    "file_path = \"all_data/Michael_RNAseq/Xe_seedlings (updated)/Xe_seedlings DESeq2 normalised counts table.csv\"  # Replace with your file path\n",
    "df = pd.read_csv(file_path)\n",
    "\n",
    "# Transform the data to long format\n",
    "long_df = dt.transform_to_long(df)\n",
    "\n",
    "long_df.to_csv(\"all_data/Michael_RNAseq/Xe_seedlings (updated)/Xe_seedlings_DESeq2_normalised_counts_table_tidy.csv\", index=False)\n",
    "print(long_df.head())\n",
    "\n",
    "\n"
   ]
  },
  {
   "cell_type": "code",
   "execution_count": 12,
   "metadata": {},
   "outputs": [
    {
     "name": "stdout",
     "output_type": "stream",
     "text": [
      "           gene_name     species treatment replicate  time  \\\n",
      "0  Xele.ptg000001l.1  X. elegans        De        R2     0   \n",
      "1  Xele.ptg000001l.1  X. elegans        De        R2     3   \n",
      "2  Xele.ptg000001l.1  X. elegans        De        R2     6   \n",
      "3  Xele.ptg000001l.1  X. elegans        De        R2     9   \n",
      "4  Xele.ptg000001l.1  X. elegans        De        R2    12   \n",
      "\n",
      "   normalised_expression  log2_expression  \n",
      "0              24.091222         4.649111  \n",
      "1              21.161189         4.469963  \n",
      "2              10.594839         3.535411  \n",
      "3              15.733636         4.064679  \n",
      "4              18.745990         4.303488  \n"
     ]
    }
   ],
   "source": [
    "df = dt.add_log2(long_df) # add log2 transformation\n",
    "df = dt.format_time_points(df) # format timepoint\n",
    "df.rename(columns={\"expression\": \"normalised_expression\"}, inplace=True)\n",
    "print(df.head())\n",
    "\n",
    "df.to_csv(\"all_data/Michael_RNAseq/Xe_seedlings (updated)/Xe_seedlings_DESeq2_normalised_counts_table_tidy_for_db.csv\", index=False)"
   ]
  },
  {
   "cell_type": "markdown",
   "metadata": {},
   "source": [
    "### 3. Add to database\n",
    "Added X. elegans seedling time course data.  \n",
    "\n"
   ]
  },
  {
   "cell_type": "code",
   "execution_count": null,
   "metadata": {},
   "outputs": [],
   "source": [
    "import db_manager as dbm\n",
    "\n",
    "\n",
    "species_id = \"X. elegans\"\n",
    "experiment_name = \"xe_seedlings_time_course\"\n",
    "rna_seq_data = pd.read_csv(\"all_data/Michael_RNAseq/Xe_seedlings (updated)/Xe_seedlings_DESeq2_normalised_counts_table_tidy_for_db.csv\")\n",
    "\n",
    "dbm.add_experiment(experiment_name, \"time course of X. elegans seedlings\")\n",
    "dbm.add_rna_seq_data(rna_seq_data, species_id, experiment_name )\n"
   ]
  },
  {
   "cell_type": "markdown",
   "metadata": {},
   "source": [
    "## 02.01.2025 Connect frontend to DB"
   ]
  },
  {
   "cell_type": "code",
   "execution_count": 2,
   "metadata": {},
   "outputs": [
    {
     "ename": "InvalidRequestError",
     "evalue": "One or more mappers failed to initialize - can't proceed with initialization of other mappers. Triggering mapper: 'Mapper[Species(species)]'. Original exception was: Could not determine join condition between parent/child tables on relationship Species.experiment - there are no foreign keys linking these tables.  Ensure that referencing columns are associated with a ForeignKey or ForeignKeyConstraint, or specify a 'primaryjoin' expression.",
     "output_type": "error",
     "traceback": [
      "\u001b[0;31m---------------------------------------------------------------------------\u001b[0m",
      "\u001b[0;31mInvalidRequestError\u001b[0m                       Traceback (most recent call last)",
      "Cell \u001b[0;32mIn[2], line 8\u001b[0m\n\u001b[1;32m      5\u001b[0m experiment_name \u001b[38;5;241m=\u001b[39m \u001b[38;5;124m\"\u001b[39m\u001b[38;5;124mxe_seedlings_time_course\u001b[39m\u001b[38;5;124m\"\u001b[39m\n\u001b[1;32m      6\u001b[0m database \u001b[38;5;241m=\u001b[39m db\u001b[38;5;241m.\u001b[39mDB()\n\u001b[0;32m----> 8\u001b[0m \u001b[43mdatabase\u001b[49m\u001b[38;5;241;43m.\u001b[39;49m\u001b[43mlink_experiment_to_species\u001b[49m\u001b[43m(\u001b[49m\u001b[43mexperiment_name\u001b[49m\u001b[43m,\u001b[49m\u001b[43m \u001b[49m\u001b[43mspecies_id\u001b[49m\u001b[43m)\u001b[49m\n",
      "File \u001b[0;32m~/Library/Mobile Documents/com~apple~CloudDocs/2024/programming_projects/app/xerophyta_data_app/db.py:297\u001b[0m, in \u001b[0;36mDB.link_experiment_to_species\u001b[0;34m(self, experiment_name, species_name)\u001b[0m\n\u001b[1;32m    295\u001b[0m \u001b[38;5;28;01mdef\u001b[39;00m \u001b[38;5;21mlink_experiment_to_species\u001b[39m(\u001b[38;5;28mself\u001b[39m, experiment_name, species_name):\n\u001b[0;32m--> 297\u001b[0m     species \u001b[38;5;241m=\u001b[39m \u001b[38;5;28;43mself\u001b[39;49m\u001b[38;5;241;43m.\u001b[39;49m\u001b[43mget_species_by_name\u001b[49m\u001b[43m(\u001b[49m\u001b[43mspecies_name\u001b[49m\u001b[43m)\u001b[49m\n\u001b[1;32m    299\u001b[0m     \u001b[38;5;28;01mif\u001b[39;00m \u001b[38;5;129;01mnot\u001b[39;00m species:\n\u001b[1;32m    300\u001b[0m         \u001b[38;5;28mprint\u001b[39m(\u001b[38;5;124mf\u001b[39m\u001b[38;5;124m\"\u001b[39m\u001b[38;5;124mSpecies \u001b[39m\u001b[38;5;124m'\u001b[39m\u001b[38;5;132;01m{\u001b[39;00mspecies_name\u001b[38;5;132;01m}\u001b[39;00m\u001b[38;5;124m'\u001b[39m\u001b[38;5;124m does not exist in the database.\u001b[39m\u001b[38;5;124m\"\u001b[39m)\n",
      "File \u001b[0;32m~/Library/Mobile Documents/com~apple~CloudDocs/2024/programming_projects/app/xerophyta_data_app/db.py:254\u001b[0m, in \u001b[0;36mDB.get_species_by_name\u001b[0;34m(self, species_name)\u001b[0m\n\u001b[1;32m    245\u001b[0m \u001b[38;5;28;01mdef\u001b[39;00m \u001b[38;5;21mget_species_by_name\u001b[39m(\u001b[38;5;28mself\u001b[39m, species_name):  \n\u001b[1;32m    246\u001b[0m \u001b[38;5;250m    \u001b[39m\u001b[38;5;124;03m\"\"\"Retrieve a species object by its name.\u001b[39;00m\n\u001b[1;32m    247\u001b[0m \n\u001b[1;32m    248\u001b[0m \u001b[38;5;124;03m    Args:\u001b[39;00m\n\u001b[0;32m   (...)\u001b[0m\n\u001b[1;32m    252\u001b[0m \u001b[38;5;124;03m        Species: A Species object\u001b[39;00m\n\u001b[1;32m    253\u001b[0m \u001b[38;5;124;03m    \"\"\"\u001b[39;00m\n\u001b[0;32m--> 254\u001b[0m     query \u001b[38;5;241m=\u001b[39m \u001b[38;5;28;43mself\u001b[39;49m\u001b[38;5;241;43m.\u001b[39;49m\u001b[43msession\u001b[49m\u001b[38;5;241;43m.\u001b[39;49m\u001b[43mquery\u001b[49m\u001b[43m(\u001b[49m\u001b[43mmodels\u001b[49m\u001b[38;5;241;43m.\u001b[39;49m\u001b[43mSpecies\u001b[49m\u001b[43m)\u001b[49m\u001b[38;5;241m.\u001b[39mfilter_by(name\u001b[38;5;241m=\u001b[39mspecies_name)\u001b[38;5;241m.\u001b[39mfirst()\n\u001b[1;32m    255\u001b[0m     \u001b[38;5;28;01mreturn\u001b[39;00m query\n",
      "File \u001b[0;32m~/Library/Mobile Documents/com~apple~CloudDocs/2024/programming_projects/app/xerophyta_data_app/.venv/lib/python3.12/site-packages/sqlalchemy/orm/session.py:2952\u001b[0m, in \u001b[0;36mSession.query\u001b[0;34m(self, *entities, **kwargs)\u001b[0m\n\u001b[1;32m   2932\u001b[0m \u001b[38;5;28;01mdef\u001b[39;00m \u001b[38;5;21mquery\u001b[39m(\n\u001b[1;32m   2933\u001b[0m     \u001b[38;5;28mself\u001b[39m, \u001b[38;5;241m*\u001b[39mentities: _ColumnsClauseArgument[Any], \u001b[38;5;241m*\u001b[39m\u001b[38;5;241m*\u001b[39mkwargs: Any\n\u001b[1;32m   2934\u001b[0m ) \u001b[38;5;241m-\u001b[39m\u001b[38;5;241m>\u001b[39m Query[Any]:\n\u001b[1;32m   2935\u001b[0m \u001b[38;5;250m    \u001b[39m\u001b[38;5;124;03m\"\"\"Return a new :class:`_query.Query` object corresponding to this\u001b[39;00m\n\u001b[1;32m   2936\u001b[0m \u001b[38;5;124;03m    :class:`_orm.Session`.\u001b[39;00m\n\u001b[1;32m   2937\u001b[0m \n\u001b[0;32m   (...)\u001b[0m\n\u001b[1;32m   2949\u001b[0m \n\u001b[1;32m   2950\u001b[0m \u001b[38;5;124;03m    \"\"\"\u001b[39;00m\n\u001b[0;32m-> 2952\u001b[0m     \u001b[38;5;28;01mreturn\u001b[39;00m \u001b[38;5;28;43mself\u001b[39;49m\u001b[38;5;241;43m.\u001b[39;49m\u001b[43m_query_cls\u001b[49m\u001b[43m(\u001b[49m\u001b[43mentities\u001b[49m\u001b[43m,\u001b[49m\u001b[43m \u001b[49m\u001b[38;5;28;43mself\u001b[39;49m\u001b[43m,\u001b[49m\u001b[43m \u001b[49m\u001b[38;5;241;43m*\u001b[39;49m\u001b[38;5;241;43m*\u001b[39;49m\u001b[43mkwargs\u001b[49m\u001b[43m)\u001b[49m\n",
      "File \u001b[0;32m~/Library/Mobile Documents/com~apple~CloudDocs/2024/programming_projects/app/xerophyta_data_app/.venv/lib/python3.12/site-packages/sqlalchemy/orm/query.py:275\u001b[0m, in \u001b[0;36mQuery.__init__\u001b[0;34m(self, entities, session)\u001b[0m\n\u001b[1;32m    269\u001b[0m \u001b[38;5;66;03m# session is usually present.  There's one case in subqueryloader\u001b[39;00m\n\u001b[1;32m    270\u001b[0m \u001b[38;5;66;03m# where it stores a Query without a Session and also there are tests\u001b[39;00m\n\u001b[1;32m    271\u001b[0m \u001b[38;5;66;03m# for the query(Entity).with_session(session) API which is likely in\u001b[39;00m\n\u001b[1;32m    272\u001b[0m \u001b[38;5;66;03m# some old recipes, however these are legacy as select() can now be\u001b[39;00m\n\u001b[1;32m    273\u001b[0m \u001b[38;5;66;03m# used.\u001b[39;00m\n\u001b[1;32m    274\u001b[0m \u001b[38;5;28mself\u001b[39m\u001b[38;5;241m.\u001b[39msession \u001b[38;5;241m=\u001b[39m session  \u001b[38;5;66;03m# type: ignore\u001b[39;00m\n\u001b[0;32m--> 275\u001b[0m \u001b[38;5;28;43mself\u001b[39;49m\u001b[38;5;241;43m.\u001b[39;49m\u001b[43m_set_entities\u001b[49m\u001b[43m(\u001b[49m\u001b[43mentities\u001b[49m\u001b[43m)\u001b[49m\n",
      "File \u001b[0;32m~/Library/Mobile Documents/com~apple~CloudDocs/2024/programming_projects/app/xerophyta_data_app/.venv/lib/python3.12/site-packages/sqlalchemy/orm/query.py:288\u001b[0m, in \u001b[0;36mQuery._set_entities\u001b[0;34m(self, entities)\u001b[0m\n\u001b[1;32m    281\u001b[0m \u001b[38;5;28;01mdef\u001b[39;00m \u001b[38;5;21m_set_entities\u001b[39m(\n\u001b[1;32m    282\u001b[0m     \u001b[38;5;28mself\u001b[39m,\n\u001b[1;32m    283\u001b[0m     entities: Union[\n\u001b[1;32m    284\u001b[0m         _ColumnsClauseArgument[Any], Iterable[_ColumnsClauseArgument[Any]]\n\u001b[1;32m    285\u001b[0m     ],\n\u001b[1;32m    286\u001b[0m ) \u001b[38;5;241m-\u001b[39m\u001b[38;5;241m>\u001b[39m \u001b[38;5;28;01mNone\u001b[39;00m:\n\u001b[1;32m    287\u001b[0m     \u001b[38;5;28mself\u001b[39m\u001b[38;5;241m.\u001b[39m_raw_columns \u001b[38;5;241m=\u001b[39m [\n\u001b[0;32m--> 288\u001b[0m         \u001b[43mcoercions\u001b[49m\u001b[38;5;241;43m.\u001b[39;49m\u001b[43mexpect\u001b[49m\u001b[43m(\u001b[49m\n\u001b[1;32m    289\u001b[0m \u001b[43m            \u001b[49m\u001b[43mroles\u001b[49m\u001b[38;5;241;43m.\u001b[39;49m\u001b[43mColumnsClauseRole\u001b[49m\u001b[43m,\u001b[49m\n\u001b[1;32m    290\u001b[0m \u001b[43m            \u001b[49m\u001b[43ment\u001b[49m\u001b[43m,\u001b[49m\n\u001b[1;32m    291\u001b[0m \u001b[43m            \u001b[49m\u001b[43mapply_propagate_attrs\u001b[49m\u001b[38;5;241;43m=\u001b[39;49m\u001b[38;5;28;43mself\u001b[39;49m\u001b[43m,\u001b[49m\n\u001b[1;32m    292\u001b[0m \u001b[43m            \u001b[49m\u001b[43mpost_inspect\u001b[49m\u001b[38;5;241;43m=\u001b[39;49m\u001b[38;5;28;43;01mTrue\u001b[39;49;00m\u001b[43m,\u001b[49m\n\u001b[1;32m    293\u001b[0m \u001b[43m        \u001b[49m\u001b[43m)\u001b[49m\n\u001b[1;32m    294\u001b[0m         \u001b[38;5;28;01mfor\u001b[39;00m ent \u001b[38;5;129;01min\u001b[39;00m util\u001b[38;5;241m.\u001b[39mto_list(entities)\n\u001b[1;32m    295\u001b[0m     ]\n",
      "File \u001b[0;32m~/Library/Mobile Documents/com~apple~CloudDocs/2024/programming_projects/app/xerophyta_data_app/.venv/lib/python3.12/site-packages/sqlalchemy/sql/coercions.py:389\u001b[0m, in \u001b[0;36mexpect\u001b[0;34m(role, element, apply_propagate_attrs, argname, post_inspect, disable_inspection, **kw)\u001b[0m\n\u001b[1;32m    387\u001b[0m \u001b[38;5;28;01mif\u001b[39;00m insp \u001b[38;5;129;01mis\u001b[39;00m \u001b[38;5;129;01mnot\u001b[39;00m \u001b[38;5;28;01mNone\u001b[39;00m:\n\u001b[1;32m    388\u001b[0m     \u001b[38;5;28;01mif\u001b[39;00m post_inspect:\n\u001b[0;32m--> 389\u001b[0m         \u001b[43minsp\u001b[49m\u001b[38;5;241;43m.\u001b[39;49m\u001b[43m_post_inspect\u001b[49m\n\u001b[1;32m    390\u001b[0m     \u001b[38;5;28;01mtry\u001b[39;00m:\n\u001b[1;32m    391\u001b[0m         resolved \u001b[38;5;241m=\u001b[39m insp\u001b[38;5;241m.\u001b[39m__clause_element__()\n",
      "File \u001b[0;32m~/Library/Mobile Documents/com~apple~CloudDocs/2024/programming_projects/app/xerophyta_data_app/.venv/lib/python3.12/site-packages/sqlalchemy/util/langhelpers.py:1253\u001b[0m, in \u001b[0;36mHasMemoized.memoized_attribute.__get__\u001b[0;34m(self, obj, cls)\u001b[0m\n\u001b[1;32m   1251\u001b[0m \u001b[38;5;28;01mif\u001b[39;00m obj \u001b[38;5;129;01mis\u001b[39;00m \u001b[38;5;28;01mNone\u001b[39;00m:\n\u001b[1;32m   1252\u001b[0m     \u001b[38;5;28;01mreturn\u001b[39;00m \u001b[38;5;28mself\u001b[39m\n\u001b[0;32m-> 1253\u001b[0m obj\u001b[38;5;241m.\u001b[39m\u001b[38;5;18m__dict__\u001b[39m[\u001b[38;5;28mself\u001b[39m\u001b[38;5;241m.\u001b[39m\u001b[38;5;18m__name__\u001b[39m] \u001b[38;5;241m=\u001b[39m result \u001b[38;5;241m=\u001b[39m \u001b[38;5;28;43mself\u001b[39;49m\u001b[38;5;241;43m.\u001b[39;49m\u001b[43mfget\u001b[49m\u001b[43m(\u001b[49m\u001b[43mobj\u001b[49m\u001b[43m)\u001b[49m\n\u001b[1;32m   1254\u001b[0m obj\u001b[38;5;241m.\u001b[39m_memoized_keys \u001b[38;5;241m|\u001b[39m\u001b[38;5;241m=\u001b[39m {\u001b[38;5;28mself\u001b[39m\u001b[38;5;241m.\u001b[39m\u001b[38;5;18m__name__\u001b[39m}\n\u001b[1;32m   1255\u001b[0m \u001b[38;5;28;01mreturn\u001b[39;00m result\n",
      "File \u001b[0;32m~/Library/Mobile Documents/com~apple~CloudDocs/2024/programming_projects/app/xerophyta_data_app/.venv/lib/python3.12/site-packages/sqlalchemy/orm/mapper.py:2711\u001b[0m, in \u001b[0;36mMapper._post_inspect\u001b[0;34m(self)\u001b[0m\n\u001b[1;32m   2700\u001b[0m \u001b[38;5;129m@HasMemoized\u001b[39m\u001b[38;5;241m.\u001b[39mmemoized_attribute\n\u001b[1;32m   2701\u001b[0m \u001b[38;5;28;01mdef\u001b[39;00m \u001b[38;5;21m_post_inspect\u001b[39m(\u001b[38;5;28mself\u001b[39m):\n\u001b[1;32m   2702\u001b[0m \u001b[38;5;250m    \u001b[39m\u001b[38;5;124;03m\"\"\"This hook is invoked by attribute inspection.\u001b[39;00m\n\u001b[1;32m   2703\u001b[0m \n\u001b[1;32m   2704\u001b[0m \u001b[38;5;124;03m    E.g. when Query calls:\u001b[39;00m\n\u001b[0;32m   (...)\u001b[0m\n\u001b[1;32m   2709\u001b[0m \n\u001b[1;32m   2710\u001b[0m \u001b[38;5;124;03m    \"\"\"\u001b[39;00m\n\u001b[0;32m-> 2711\u001b[0m     \u001b[38;5;28;43mself\u001b[39;49m\u001b[38;5;241;43m.\u001b[39;49m\u001b[43m_check_configure\u001b[49m\u001b[43m(\u001b[49m\u001b[43m)\u001b[49m\n",
      "File \u001b[0;32m~/Library/Mobile Documents/com~apple~CloudDocs/2024/programming_projects/app/xerophyta_data_app/.venv/lib/python3.12/site-packages/sqlalchemy/orm/mapper.py:2388\u001b[0m, in \u001b[0;36mMapper._check_configure\u001b[0;34m(self)\u001b[0m\n\u001b[1;32m   2380\u001b[0m \u001b[38;5;129m@util\u001b[39m\u001b[38;5;241m.\u001b[39mlanghelpers\u001b[38;5;241m.\u001b[39mtag_method_for_warnings(\n\u001b[1;32m   2381\u001b[0m     \u001b[38;5;124m\"\u001b[39m\u001b[38;5;124mThis warning originated from the `configure_mappers()` process, \u001b[39m\u001b[38;5;124m\"\u001b[39m\n\u001b[1;32m   2382\u001b[0m     \u001b[38;5;124m\"\u001b[39m\u001b[38;5;124mwhich was invoked automatically in response to a user-initiated \u001b[39m\u001b[38;5;124m\"\u001b[39m\n\u001b[0;32m   (...)\u001b[0m\n\u001b[1;32m   2385\u001b[0m )\n\u001b[1;32m   2386\u001b[0m \u001b[38;5;28;01mdef\u001b[39;00m \u001b[38;5;21m_check_configure\u001b[39m(\u001b[38;5;28mself\u001b[39m) \u001b[38;5;241m-\u001b[39m\u001b[38;5;241m>\u001b[39m \u001b[38;5;28;01mNone\u001b[39;00m:\n\u001b[1;32m   2387\u001b[0m     \u001b[38;5;28;01mif\u001b[39;00m \u001b[38;5;28mself\u001b[39m\u001b[38;5;241m.\u001b[39mregistry\u001b[38;5;241m.\u001b[39m_new_mappers:\n\u001b[0;32m-> 2388\u001b[0m         \u001b[43m_configure_registries\u001b[49m\u001b[43m(\u001b[49m\u001b[43m{\u001b[49m\u001b[38;5;28;43mself\u001b[39;49m\u001b[38;5;241;43m.\u001b[39;49m\u001b[43mregistry\u001b[49m\u001b[43m}\u001b[49m\u001b[43m,\u001b[49m\u001b[43m \u001b[49m\u001b[43mcascade\u001b[49m\u001b[38;5;241;43m=\u001b[39;49m\u001b[38;5;28;43;01mTrue\u001b[39;49;00m\u001b[43m)\u001b[49m\n",
      "File \u001b[0;32m~/Library/Mobile Documents/com~apple~CloudDocs/2024/programming_projects/app/xerophyta_data_app/.venv/lib/python3.12/site-packages/sqlalchemy/orm/mapper.py:4204\u001b[0m, in \u001b[0;36m_configure_registries\u001b[0;34m(registries, cascade)\u001b[0m\n\u001b[1;32m   4198\u001b[0m     Mapper\u001b[38;5;241m.\u001b[39mdispatch\u001b[38;5;241m.\u001b[39m_for_class(Mapper)\u001b[38;5;241m.\u001b[39mbefore_configured()  \u001b[38;5;66;03m# type: ignore # noqa: E501\u001b[39;00m\n\u001b[1;32m   4199\u001b[0m     \u001b[38;5;66;03m# initialize properties on all mappers\u001b[39;00m\n\u001b[1;32m   4200\u001b[0m     \u001b[38;5;66;03m# note that _mapper_registry is unordered, which\u001b[39;00m\n\u001b[1;32m   4201\u001b[0m     \u001b[38;5;66;03m# may randomly conceal/reveal issues related to\u001b[39;00m\n\u001b[1;32m   4202\u001b[0m     \u001b[38;5;66;03m# the order of mapper compilation\u001b[39;00m\n\u001b[0;32m-> 4204\u001b[0m     \u001b[43m_do_configure_registries\u001b[49m\u001b[43m(\u001b[49m\u001b[43mregistries\u001b[49m\u001b[43m,\u001b[49m\u001b[43m \u001b[49m\u001b[43mcascade\u001b[49m\u001b[43m)\u001b[49m\n\u001b[1;32m   4205\u001b[0m \u001b[38;5;28;01mfinally\u001b[39;00m:\n\u001b[1;32m   4206\u001b[0m     _already_compiling \u001b[38;5;241m=\u001b[39m \u001b[38;5;28;01mFalse\u001b[39;00m\n",
      "File \u001b[0;32m~/Library/Mobile Documents/com~apple~CloudDocs/2024/programming_projects/app/xerophyta_data_app/.venv/lib/python3.12/site-packages/sqlalchemy/orm/mapper.py:4241\u001b[0m, in \u001b[0;36m_do_configure_registries\u001b[0;34m(registries, cascade)\u001b[0m\n\u001b[1;32m   4233\u001b[0m     e \u001b[38;5;241m=\u001b[39m sa_exc\u001b[38;5;241m.\u001b[39mInvalidRequestError(\n\u001b[1;32m   4234\u001b[0m         \u001b[38;5;124m\"\u001b[39m\u001b[38;5;124mOne or more mappers failed to initialize - \u001b[39m\u001b[38;5;124m\"\u001b[39m\n\u001b[1;32m   4235\u001b[0m         \u001b[38;5;124m\"\u001b[39m\u001b[38;5;124mcan\u001b[39m\u001b[38;5;124m'\u001b[39m\u001b[38;5;124mt proceed with initialization of other \u001b[39m\u001b[38;5;124m\"\u001b[39m\n\u001b[0;32m   (...)\u001b[0m\n\u001b[1;32m   4238\u001b[0m         \u001b[38;5;241m%\u001b[39m (mapper, mapper\u001b[38;5;241m.\u001b[39m_configure_failed)\n\u001b[1;32m   4239\u001b[0m     )\n\u001b[1;32m   4240\u001b[0m     e\u001b[38;5;241m.\u001b[39m_configure_failed \u001b[38;5;241m=\u001b[39m mapper\u001b[38;5;241m.\u001b[39m_configure_failed  \u001b[38;5;66;03m# type: ignore\u001b[39;00m\n\u001b[0;32m-> 4241\u001b[0m     \u001b[38;5;28;01mraise\u001b[39;00m e\n\u001b[1;32m   4243\u001b[0m \u001b[38;5;28;01mif\u001b[39;00m \u001b[38;5;129;01mnot\u001b[39;00m mapper\u001b[38;5;241m.\u001b[39mconfigured:\n\u001b[1;32m   4244\u001b[0m     \u001b[38;5;28;01mtry\u001b[39;00m:\n",
      "\u001b[0;31mInvalidRequestError\u001b[0m: One or more mappers failed to initialize - can't proceed with initialization of other mappers. Triggering mapper: 'Mapper[Species(species)]'. Original exception was: Could not determine join condition between parent/child tables on relationship Species.experiment - there are no foreign keys linking these tables.  Ensure that referencing columns are associated with a ForeignKey or ForeignKeyConstraint, or specify a 'primaryjoin' expression."
     ]
    }
   ],
   "source": [
    "import db_manager as dbm\n",
    "import db\n",
    "\n",
    "species_id = \"X. elegans\"\n",
    "experiment_name = \"xe_seedlings_time_course\"\n",
    "database = db.DB()\n",
    "\n",
    "database.link_experiment_to_species(experiment_name, species_id)"
   ]
  },
  {
   "cell_type": "markdown",
   "metadata": {},
   "source": [
    "## 5-01-2025 Add DEG table\n",
    "\n",
    "\n",
    "\n",
    "#### Testing DEG implementation\n",
    "\"12\",\"Xele.ptg000001l.15\",\"ReT48\",\"Up-regulated\",\"None\",\"None\"\n",
    "\"46\",\"Xele.ptg000001l.50\",\"None\",\"None\",\"DeT09\",\"Down-regulated\"\n",
    "\"137\",\"Xele.ptg000001l.159\",\"ReT04\",\"Up-regulated\",\"DeT12\",\"Down-regulated\"\n",
    "\n",
    "Xele.ptg000001l.15\n",
    "Xele.ptg000001l.50\n",
    "Xele.ptg000001l.159"
   ]
  },
  {
   "cell_type": "code",
   "execution_count": 2,
   "metadata": {},
   "outputs": [
    {
     "name": "stdout",
     "output_type": "stream",
     "text": [
      "47562\n"
     ]
    }
   ],
   "source": [
    "import db \n",
    "\n",
    "database = db.DB()\n",
    "\n",
    "gene = \"Xsch.v2.MJHO01000001.1.1119\"\n",
    "print(database.get_genes_by_go_term_or_description([\"P:GO:0009864\"]))"
   ]
  }
 ],
 "metadata": {
  "kernelspec": {
   "display_name": ".venv",
   "language": "python",
   "name": "python3"
  },
  "language_info": {
   "codemirror_mode": {
    "name": "ipython",
    "version": 3
   },
   "file_extension": ".py",
   "mimetype": "text/x-python",
   "name": "python",
   "nbconvert_exporter": "python",
   "pygments_lexer": "ipython3",
   "version": "3.12.6"
  }
 },
 "nbformat": 4,
 "nbformat_minor": 2
}
