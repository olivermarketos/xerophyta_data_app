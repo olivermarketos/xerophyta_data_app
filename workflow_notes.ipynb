{
 "cells": [
  {
   "cell_type": "code",
   "execution_count": 6,
   "metadata": {},
   "outputs": [],
   "source": [
    "import json\n",
    "import pandas as pd\n"
   ]
  },
  {
   "cell_type": "code",
   "execution_count": 9,
   "metadata": {},
   "outputs": [],
   "source": [
    "\n",
    "file_path = \"all_data/Xschlechteri_Nov2024/ncbi_dataset/ncbi_dataset/data/data_report.jsonl\"\n",
    "\n",
    "data = []\n",
    "\n",
    "\n",
    "with open(file_path, 'r', encoding='utf-8') as file:\n",
    "    for line_number, line in enumerate(file, start=1):\n",
    "        try:\n",
    "            # Parse the JSON object from each line\n",
    "            json_obj = json.loads(line.strip())\n",
    "            data.append(json_obj)\n",
    "        except json.JSONDecodeError as e:\n",
    "            print(f\"Error decoding JSON on line {line_number}: {e}\")\n"
   ]
  },
  {
   "cell_type": "code",
   "execution_count": 14,
   "metadata": {},
   "outputs": [
    {
     "name": "stdout",
     "output_type": "stream",
     "text": [
      "{\n",
      "    \"annotations\": [\n",
      "        {\n",
      "            \"annotationName\": \"Annotation submitted by TAIR and Araport\",\n",
      "            \"annotationReleaseDate\": \"2022-10-20\",\n",
      "            \"assemblyAccession\": \"GCF_000001735.4\",\n",
      "            \"assemblyName\": \"TAIR10.1\",\n",
      "            \"genomicLocations\": [\n",
      "                {\n",
      "                    \"genomicAccessionVersion\": \"NC_003071.7\",\n",
      "                    \"genomicRange\": {\n",
      "                        \"begin\": \"11678305\",\n",
      "                        \"end\": \"11679919\",\n",
      "                        \"orientation\": \"minus\"\n",
      "                    },\n",
      "                    \"sequenceName\": \"2\"\n",
      "                }\n",
      "            ]\n",
      "        }\n",
      "    ],\n",
      "    \"chromosomes\": [\n",
      "        \"2\"\n",
      "    ],\n",
      "    \"commonName\": \"thale cress\",\n",
      "    \"description\": \"FAM210B-like protein, putative (DUF1279)\",\n",
      "    \"geneId\": \"817272\",\n",
      "    \"geneOntology\": {\n",
      "        \"cellularComponents\": [\n",
      "            {\n",
      "                \"evidenceCode\": \"HDA\",\n",
      "                \"goId\": \"GO:0009507\",\n",
      "                \"name\": \"chloroplast\",\n",
      "                \"qualifier\": \"located_in\"\n",
      "            },\n",
      "            {\n",
      "                \"evidenceCode\": \"ISM\",\n",
      "                \"goId\": \"GO:0009507\",\n",
      "                \"name\": \"chloroplast\",\n",
      "                \"qualifier\": \"located_in\"\n",
      "            },\n",
      "            {\n",
      "                \"evidenceCode\": \"HDA\",\n",
      "                \"goId\": \"GO:0009535\",\n",
      "                \"name\": \"chloroplast thylakoid membrane\",\n",
      "                \"qualifier\": \"located_in\"\n",
      "            },\n",
      "            {\n",
      "                \"evidenceCode\": \"IDA\",\n",
      "                \"goId\": \"GO:0009579\",\n",
      "                \"name\": \"thylakoid\",\n",
      "                \"qualifier\": \"located_in\"\n",
      "            }\n",
      "        ],\n",
      "        \"molecularFunctions\": [\n",
      "            {\n",
      "                \"evidenceCode\": \"ND\",\n",
      "                \"goId\": \"GO:0003674\",\n",
      "                \"name\": \"molecular_function\",\n",
      "                \"qualifier\": \"enables\"\n",
      "            }\n",
      "        ]\n",
      "    },\n",
      "    \"nomenclatureAuthority\": {\n",
      "        \"authority\": \"Araport\",\n",
      "        \"identifier\": \"AT2G27290\"\n",
      "    },\n",
      "    \"orientation\": \"minus\",\n",
      "    \"proteinCount\": 1,\n",
      "    \"symbol\": \"AT2G27290\",\n",
      "    \"synonyms\": [\n",
      "        \"F12K2.13\",\n",
      "        \"F12K2_13\"\n",
      "    ],\n",
      "    \"taxId\": \"3702\",\n",
      "    \"taxname\": \"Arabidopsis thaliana\",\n",
      "    \"transcriptCount\": 1,\n",
      "    \"transcriptTypeCounts\": [\n",
      "        {\n",
      "            \"count\": 1,\n",
      "            \"type\": \"PROTEIN_CODING\"\n",
      "        }\n",
      "    ],\n",
      "    \"type\": \"PROTEIN_CODING\"\n",
      "}\n"
     ]
    }
   ],
   "source": [
    "print(json.dumps(data[2], indent=4))  # Pretty-print the first JSON object\n"
   ]
  }
 ],
 "metadata": {
  "kernelspec": {
   "display_name": "mybase",
   "language": "python",
   "name": "python3"
  },
  "language_info": {
   "codemirror_mode": {
    "name": "ipython",
    "version": 3
   },
   "file_extension": ".py",
   "mimetype": "text/x-python",
   "name": "python",
   "nbconvert_exporter": "python",
   "pygments_lexer": "ipython3",
   "version": "3.10.15"
  }
 },
 "nbformat": 4,
 "nbformat_minor": 2
}
