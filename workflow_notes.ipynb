{
 "cells": [
  {
   "cell_type": "code",
   "execution_count": 8,
   "metadata": {},
   "outputs": [],
   "source": [
    "import json\n",
    "import pandas as pd\n"
   ]
  },
  {
   "cell_type": "code",
   "execution_count": 9,
   "metadata": {},
   "outputs": [],
   "source": [
    "\n",
    "file_path = \"all_data/Xschlechteri_Nov2024/ncbi_dataset/ncbi_dataset/data/data_report.jsonl\"\n",
    "\n",
    "data = []\n",
    "\n",
    "\n",
    "with open(file_path, 'r', encoding='utf-8') as file:\n",
    "    for line_number, line in enumerate(file, start=1):\n",
    "        try:\n",
    "            # Parse the JSON object from each line\n",
    "            json_obj = json.loads(line.strip())\n",
    "            data.append(json_obj)\n",
    "        except json.JSONDecodeError as e:\n",
    "            print(f\"Error decoding JSON on line {line_number}: {e}\")\n"
   ]
  },
  {
   "cell_type": "markdown",
   "metadata": {},
   "source": [
    "## TODO\n",
    "* Make `add_rna_seq_data` and `create_or_update` more efficient\n",
    "* Add arabidopsis orthologues to DB\n",
    "  * Get from accession numbers (NIH and )\n",
    "* Connect front end to db for RNA-seq\n",
    "  * search by:\n",
    "    * At gene\n",
    "    * [X] Xe gene\n",
    "    * GO terms\n",
    "  * Select experiment\n",
    "* Show which queried Xe genes arent in DB\n",
    "* Fix button stopping showing raw data\n",
    "* Query expression data by experiment in DB (currently searches all of expression table)\n",
    "## Done\n",
    "* plot expression values for Xerophyta genes\n",
    "  * log or normalised"
   ]
  },
  {
   "cell_type": "markdown",
   "metadata": {},
   "source": [
    "## 01-01-2025 Add RNAseq data to DB\n",
    "Need to add the X. elegans RNA-seq data to the db. \n",
    "\n",
    "Steps:\n",
    "1. Add tables to `models.py`  and add info to DB schema with Alembic  \n",
    "2. Format data into long data format  \n",
    "\n",
    "### 1. Add table\n",
    "**Set up alembic** \n",
    "\n",
    "`alembic init alembic`  \n",
    "... chatGPT for other steps  \n",
    "\n",
    "**Create a migration script**   \n",
    "\n",
    "`alembic revision --autogenerate -m \"Your migration description here\"`  \n",
    "fill in script\n",
    "`alembic upgrade head`  \n",
    "\n",
    "\n",
    "Added two tables: `Gene_expressions` and `Experiments`\n",
    "\n",
    "### 2. Format the data\n",
    "\n",
    "Use the `data_tidier.py` script and the below python cells\n",
    "\n"
   ]
  },
  {
   "cell_type": "code",
   "execution_count": 11,
   "metadata": {},
   "outputs": [
    {
     "name": "stderr",
     "output_type": "stream",
     "text": [
      "/Users/olivermarketos/Library/Mobile Documents/com~apple~CloudDocs/2024/programming_projects/app/xerophyta_data_app/data_tidier.py:39: FutureWarning: Series.__getitem__ treating keys as positions is deprecated. In a future version, integer keys will always be treated as labels (consistent with DataFrame behavior). To access a value by position, use `ser.iloc[pos]`\n",
      "  gene_name = row[0]  # First column is the gene name\n"
     ]
    },
    {
     "name": "stdout",
     "output_type": "stream",
     "text": [
      "           gene_name     species treatment replicate time  expression\n",
      "0  Xele.ptg000001l.1  X. elegans        De        R2  T00   24.091222\n",
      "1  Xele.ptg000001l.1  X. elegans        De        R2  T03   21.161189\n",
      "2  Xele.ptg000001l.1  X. elegans        De        R2  T06   10.594839\n",
      "3  Xele.ptg000001l.1  X. elegans        De        R2  T09   15.733636\n",
      "4  Xele.ptg000001l.1  X. elegans        De        R2  T12   18.745990\n"
     ]
    }
   ],
   "source": [
    "import data_tidier as dt\n",
    "import pandas as pd\n",
    "\n",
    "# Load the RNA expression file\n",
    "file_path = \"all_data/Michael_RNAseq/Xe_seedlings (updated)/Xe_seedlings DESeq2 normalised counts table.csv\"  # Replace with your file path\n",
    "df = pd.read_csv(file_path)\n",
    "\n",
    "# Transform the data to long format\n",
    "long_df = dt.transform_to_long(df)\n",
    "\n",
    "long_df.to_csv(\"all_data/Michael_RNAseq/Xe_seedlings (updated)/Xe_seedlings_DESeq2_normalised_counts_table_tidy.csv\", index=False)\n",
    "print(long_df.head())\n",
    "\n",
    "\n"
   ]
  },
  {
   "cell_type": "code",
   "execution_count": 12,
   "metadata": {},
   "outputs": [
    {
     "name": "stdout",
     "output_type": "stream",
     "text": [
      "           gene_name     species treatment replicate  time  \\\n",
      "0  Xele.ptg000001l.1  X. elegans        De        R2     0   \n",
      "1  Xele.ptg000001l.1  X. elegans        De        R2     3   \n",
      "2  Xele.ptg000001l.1  X. elegans        De        R2     6   \n",
      "3  Xele.ptg000001l.1  X. elegans        De        R2     9   \n",
      "4  Xele.ptg000001l.1  X. elegans        De        R2    12   \n",
      "\n",
      "   normalised_expression  log2_expression  \n",
      "0              24.091222         4.649111  \n",
      "1              21.161189         4.469963  \n",
      "2              10.594839         3.535411  \n",
      "3              15.733636         4.064679  \n",
      "4              18.745990         4.303488  \n"
     ]
    }
   ],
   "source": [
    "df = dt.add_log2(long_df) # add log2 transformation\n",
    "df = dt.format_time_points(df) # format timepoint\n",
    "df.rename(columns={\"expression\": \"normalised_expression\"}, inplace=True)\n",
    "print(df.head())\n",
    "\n",
    "df.to_csv(\"all_data/Michael_RNAseq/Xe_seedlings (updated)/Xe_seedlings_DESeq2_normalised_counts_table_tidy_for_db.csv\", index=False)"
   ]
  },
  {
   "cell_type": "markdown",
   "metadata": {},
   "source": [
    "### 3. Add to database\n",
    "Added X. elegans seedling time course data.  \n",
    "\n"
   ]
  },
  {
   "cell_type": "code",
   "execution_count": null,
   "metadata": {},
   "outputs": [],
   "source": [
    "import db_manager as dbm\n",
    "\n",
    "\n",
    "species_id = \"X. elegans\"\n",
    "experiment_name = \"xe_seedlings_time_course\"\n",
    "rna_seq_data = pd.read_csv(\"all_data/Michael_RNAseq/Xe_seedlings (updated)/Xe_seedlings_DESeq2_normalised_counts_table_tidy_for_db.csv\")\n",
    "\n",
    "dbm.add_experiment(experiment_name, \"time course of X. elegans seedlings\")\n",
    "dbm.add_rna_seq_data(rna_seq_data, species_id, experiment_name )\n"
   ]
  },
  {
   "cell_type": "markdown",
   "metadata": {},
   "source": [
    "## 02.01.2025 Connect frontend to DB"
   ]
  },
  {
   "cell_type": "code",
   "execution_count": 3,
   "metadata": {},
   "outputs": [
    {
     "name": "stdout",
     "output_type": "stream",
     "text": [
      "['xe_seedlings_time_course']\n"
     ]
    }
   ],
   "source": []
  }
 ],
 "metadata": {
  "kernelspec": {
   "display_name": ".venv",
   "language": "python",
   "name": "python3"
  },
  "language_info": {
   "codemirror_mode": {
    "name": "ipython",
    "version": 3
   },
   "file_extension": ".py",
   "mimetype": "text/x-python",
   "name": "python",
   "nbconvert_exporter": "python",
   "pygments_lexer": "ipython3",
   "version": "3.12.6"
  }
 },
 "nbformat": 4,
 "nbformat_minor": 2
}
